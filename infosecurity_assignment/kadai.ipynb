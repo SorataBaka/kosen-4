{
 "cells": [
  {
   "cell_type": "markdown",
   "metadata": {},
   "source": [
    "# kadai 1"
   ]
  },
  {
   "cell_type": "code",
   "execution_count": 9,
   "metadata": {},
   "outputs": [],
   "source": [
    "#setup\n",
    "m = 4720346541859956038532562018218597066353522528\n",
    "e = 65537\n",
    "n = 5201857599581709110272181771081634885123238867\n",
    "\n",
    "expected = 652135687708198668139591737530780396751565610"
   ]
  },
  {
   "cell_type": "code",
   "execution_count": null,
   "metadata": {},
   "outputs": [],
   "source": [
    "result = pow(m, e) % n\n",
    "\n",
    "if result == expected:\n",
    "  print(\"OK\")\n"
   ]
  },
  {
   "cell_type": "markdown",
   "metadata": {},
   "source": [
    "# kadai 2"
   ]
  },
  {
   "cell_type": "code",
   "execution_count": 1,
   "metadata": {},
   "outputs": [],
   "source": [
    "#setup\n",
    "a = 65537\n",
    "b = 5201857599581709110271839130843273065632731040\n",
    "expecta = 5110420091689707204553952155871402968258592673"
   ]
  },
  {
   "cell_type": "code",
   "execution_count": 2,
   "metadata": {},
   "outputs": [],
   "source": [
    "def gcdExtended(a, b):\n",
    "  x0, x1, y0, y1 = 1, 0, 0, 1\n",
    "  r0, r1 = a,  b\n",
    "  while r1 != 0:\n",
    "    x0, x1 = x1, x0 - x1 * (r0 // r1)\n",
    "    y0, y1 = y1, y0 - y1 * (r0 // r1)\n",
    "    r0, r1 = r1, r0 & r1\n",
    "  print(\"{x0} {x1} {y0} {y1}\")\n",
    "  if x0 < 0:\n",
    "    x0 += b\n",
    "    x1 -= a\n",
    "    \n",
    "  return r0, x0, y0"
   ]
  },
  {
   "cell_type": "code",
   "execution_count": 3,
   "metadata": {},
   "outputs": [
    {
     "ename": "KeyboardInterrupt",
     "evalue": "",
     "output_type": "error",
     "traceback": [
      "\u001b[0;31m---------------------------------------------------------------------------\u001b[0m",
      "\u001b[0;31mKeyboardInterrupt\u001b[0m                         Traceback (most recent call last)",
      "Cell \u001b[0;32mIn[3], line 1\u001b[0m\n\u001b[0;32m----> 1\u001b[0m result, x, y \u001b[38;5;241m=\u001b[39m \u001b[43mgcdExtended\u001b[49m\u001b[43m(\u001b[49m\u001b[43ma\u001b[49m\u001b[43m,\u001b[49m\u001b[43m \u001b[49m\u001b[43mb\u001b[49m\u001b[43m)\u001b[49m\n\u001b[1;32m      2\u001b[0m \u001b[38;5;28;01mif\u001b[39;00m x \u001b[38;5;241m==\u001b[39m expecta:\n\u001b[1;32m      3\u001b[0m   \u001b[38;5;28mprint\u001b[39m(\u001b[38;5;124m\"\u001b[39m\u001b[38;5;124mOK\u001b[39m\u001b[38;5;124m\"\u001b[39m)\n",
      "Cell \u001b[0;32mIn[2], line 4\u001b[0m, in \u001b[0;36mgcdExtended\u001b[0;34m(a, b)\u001b[0m\n\u001b[1;32m      2\u001b[0m x0, x1, y0, y1 \u001b[38;5;241m=\u001b[39m \u001b[38;5;241m1\u001b[39m, \u001b[38;5;241m0\u001b[39m, \u001b[38;5;241m0\u001b[39m, \u001b[38;5;241m1\u001b[39m\n\u001b[1;32m      3\u001b[0m r0, r1 \u001b[38;5;241m=\u001b[39m a,  b\n\u001b[0;32m----> 4\u001b[0m \u001b[38;5;28;01mwhile\u001b[39;00m r1 \u001b[38;5;241m!=\u001b[39m \u001b[38;5;241m0\u001b[39m:\n\u001b[1;32m      5\u001b[0m   x0, x1 \u001b[38;5;241m=\u001b[39m x1, x0 \u001b[38;5;241m-\u001b[39m x1 \u001b[38;5;241m*\u001b[39m (r0 \u001b[38;5;241m/\u001b[39m\u001b[38;5;241m/\u001b[39m r1)\n\u001b[1;32m      6\u001b[0m   y0, y1 \u001b[38;5;241m=\u001b[39m y1, y0 \u001b[38;5;241m-\u001b[39m y1 \u001b[38;5;241m*\u001b[39m (r0 \u001b[38;5;241m/\u001b[39m\u001b[38;5;241m/\u001b[39m r1)\n",
      "\u001b[0;31mKeyboardInterrupt\u001b[0m: "
     ]
    }
   ],
   "source": [
    "result, x, y = gcdExtended(a, b)\n",
    "if x == expecta:\n",
    "  print(\"OK\")\n",
    "print(result)\n",
    "print(x)\n",
    "print(y)"
   ]
  }
 ],
 "metadata": {
  "kernelspec": {
   "display_name": "Python 3",
   "language": "python",
   "name": "python3"
  },
  "language_info": {
   "codemirror_mode": {
    "name": "ipython",
    "version": 3
   },
   "file_extension": ".py",
   "mimetype": "text/x-python",
   "name": "python",
   "nbconvert_exporter": "python",
   "pygments_lexer": "ipython3",
   "version": "3.10.14"
  }
 },
 "nbformat": 4,
 "nbformat_minor": 2
}
